{
 "cells": [
  {
   "cell_type": "code",
   "execution_count": 1,
   "id": "ea625ca0",
   "metadata": {},
   "outputs": [],
   "source": [
    "#import packages\n",
    "import pandas as pd\n",
    "import numpy as np\n",
    "import requests\n",
    "import io\n",
    "import datetime\n",
    "from sklearn.model_selection import train_test_split\n",
    "from sklearn.linear_model import LinearRegression\n",
    "import joblib\n",
    "from evidently.report import Report\n",
    "from evidently.metric_preset import DataDriftPreset\n",
    "from evidently.metric_preset import TargetDriftPreset"
   ]
  },
  {
   "cell_type": "code",
   "execution_count": 2,
   "id": "610a2de3",
   "metadata": {},
   "outputs": [],
   "source": [
    "\n",
    "# Load the dataset\n",
    "df = pd.read_csv('auto_mpg.csv')\n",
    "\n",
    "# Handle missing values in 'horsepower'\n",
    "df = df.replace('?', np.nan)\n",
    "df['horsepower'] = pd.to_numeric(df['horsepower'])\n",
    "\n",
    "# Impute missing values with the median\n",
    "df['horsepower'] = df['horsepower'].fillna(df['horsepower'].median())\n",
    "\n",
    "# Drop the 'car name' column as it is not useful for prediction\n",
    "df = df.drop('car name', axis=1)\n",
    "      "
   ]
  },
  {
   "cell_type": "code",
   "execution_count": 3,
   "id": "c7b2923d",
   "metadata": {},
   "outputs": [
    {
     "data": {
      "text/plain": [
       "(398, 8)"
      ]
     },
     "execution_count": 3,
     "metadata": {},
     "output_type": "execute_result"
    }
   ],
   "source": [
    "df.shape"
   ]
  },
  {
   "cell_type": "code",
   "execution_count": 4,
   "id": "fb839bfe",
   "metadata": {},
   "outputs": [
    {
     "data": {
      "text/html": [
       "<div>\n",
       "<style scoped>\n",
       "    .dataframe tbody tr th:only-of-type {\n",
       "        vertical-align: middle;\n",
       "    }\n",
       "\n",
       "    .dataframe tbody tr th {\n",
       "        vertical-align: top;\n",
       "    }\n",
       "\n",
       "    .dataframe thead th {\n",
       "        text-align: right;\n",
       "    }\n",
       "</style>\n",
       "<table border=\"1\" class=\"dataframe\">\n",
       "  <thead>\n",
       "    <tr style=\"text-align: right;\">\n",
       "      <th></th>\n",
       "      <th>mpg</th>\n",
       "      <th>cylinders</th>\n",
       "      <th>displacement</th>\n",
       "      <th>horsepower</th>\n",
       "      <th>weight</th>\n",
       "      <th>acceleration</th>\n",
       "      <th>model year</th>\n",
       "      <th>origin</th>\n",
       "    </tr>\n",
       "  </thead>\n",
       "  <tbody>\n",
       "    <tr>\n",
       "      <th>0</th>\n",
       "      <td>18.0</td>\n",
       "      <td>8</td>\n",
       "      <td>307.0</td>\n",
       "      <td>130.0</td>\n",
       "      <td>3504</td>\n",
       "      <td>12.0</td>\n",
       "      <td>70</td>\n",
       "      <td>1</td>\n",
       "    </tr>\n",
       "    <tr>\n",
       "      <th>1</th>\n",
       "      <td>15.0</td>\n",
       "      <td>8</td>\n",
       "      <td>350.0</td>\n",
       "      <td>165.0</td>\n",
       "      <td>3693</td>\n",
       "      <td>11.5</td>\n",
       "      <td>70</td>\n",
       "      <td>1</td>\n",
       "    </tr>\n",
       "    <tr>\n",
       "      <th>2</th>\n",
       "      <td>18.0</td>\n",
       "      <td>8</td>\n",
       "      <td>318.0</td>\n",
       "      <td>150.0</td>\n",
       "      <td>3436</td>\n",
       "      <td>11.0</td>\n",
       "      <td>70</td>\n",
       "      <td>1</td>\n",
       "    </tr>\n",
       "    <tr>\n",
       "      <th>3</th>\n",
       "      <td>16.0</td>\n",
       "      <td>8</td>\n",
       "      <td>304.0</td>\n",
       "      <td>150.0</td>\n",
       "      <td>3433</td>\n",
       "      <td>12.0</td>\n",
       "      <td>70</td>\n",
       "      <td>1</td>\n",
       "    </tr>\n",
       "    <tr>\n",
       "      <th>4</th>\n",
       "      <td>17.0</td>\n",
       "      <td>8</td>\n",
       "      <td>302.0</td>\n",
       "      <td>140.0</td>\n",
       "      <td>3449</td>\n",
       "      <td>10.5</td>\n",
       "      <td>70</td>\n",
       "      <td>1</td>\n",
       "    </tr>\n",
       "  </tbody>\n",
       "</table>\n",
       "</div>"
      ],
      "text/plain": [
       "    mpg  cylinders  displacement  horsepower  weight  acceleration  \\\n",
       "0  18.0          8         307.0       130.0    3504          12.0   \n",
       "1  15.0          8         350.0       165.0    3693          11.5   \n",
       "2  18.0          8         318.0       150.0    3436          11.0   \n",
       "3  16.0          8         304.0       150.0    3433          12.0   \n",
       "4  17.0          8         302.0       140.0    3449          10.5   \n",
       "\n",
       "   model year  origin  \n",
       "0          70       1  \n",
       "1          70       1  \n",
       "2          70       1  \n",
       "3          70       1  \n",
       "4          70       1  "
      ]
     },
     "execution_count": 4,
     "metadata": {},
     "output_type": "execute_result"
    }
   ],
   "source": [
    "df.head()"
   ]
  },
  {
   "cell_type": "code",
   "execution_count": 5,
   "id": "a23b8b4e",
   "metadata": {},
   "outputs": [],
   "source": [
    "# Split the data into 'reference' and 'current' datasets.\n",
    "# The 'reference' data represents the past, 'well-behaved' data.\n",
    "# The 'current' data represents new, incoming data we need to monitor.\n",
    "reference_data = df.iloc[:200].copy()\n",
    "current_data = df.iloc[200:].copy()"
   ]
  },
  {
   "cell_type": "code",
   "execution_count": 6,
   "id": "592e65c2",
   "metadata": {},
   "outputs": [
    {
     "name": "stdout",
     "output_type": "stream",
     "text": [
      "Simulating data drift in the 'current' dataset...\n",
      "Reference data shape: (200, 10)\n",
      "Current data shape: (198, 10)\n"
     ]
    }
   ],
   "source": [
    "\n",
    "#Introduce Data drift\n",
    "print(\"Simulating data drift in the 'current' dataset...\")\n",
    "\n",
    "current_data['mpg'] = current_data['mpg'] * 0.8\n",
    "current_data['cylinders'] = current_data['cylinders'] * 1.3\n",
    "current_data['displacement'] = current_data['displacement'] * 0.6\n",
    "current_data['horsepower'] = current_data['horsepower'] * 4.6\n",
    "current_data['acceleration'] = current_data['acceleration'] * 1.45\n",
    "current_data['weight'] = current_data['weight']*1.05\n",
    "current_data['origin'] = current_data['origin'].replace({1: 2, 2: 3, 3: 1})\n",
    "\n",
    "# One-hot encode the 'origin' column\n",
    "reference_data = pd.get_dummies(reference_data, columns=['origin'], prefix='origin')\n",
    "current_data = pd.get_dummies(current_data, columns=['origin'], prefix='origin')\n",
    "print(\"Reference data shape:\", reference_data.shape)\n",
    "print(\"Current data shape:\", current_data.shape)\n"
   ]
  },
  {
   "cell_type": "code",
   "execution_count": 7,
   "id": "034fa136",
   "metadata": {},
   "outputs": [],
   "source": [
    "#Find out the datadrift\n",
    "data_drift_report = Report(metrics=[\n",
    "    DataDriftPreset()\n",
    "])\n",
    "data_drift_report.run(current_data=current_data, reference_data=reference_data, column_mapping=None)\n",
    " "
   ]
  },
  {
   "cell_type": "code",
   "execution_count": 8,
   "id": "fd53a7e0",
   "metadata": {},
   "outputs": [
    {
     "name": "stdout",
     "output_type": "stream",
     "text": [
      "Data Drift Report saved to data_drift_report_ 20250812_191711.html\n"
     ]
    }
   ],
   "source": [
    "# Save the report as an HTML file\n",
    "report_filename = f'data_drift_report_ {datetime.datetime.now().strftime(\"%Y%m%d_%H%M%S\")}.html'\n",
    "data_drift_report.save_html(report_filename)\n",
    "print(f\"Data Drift Report saved to {report_filename}\")"
   ]
  },
  {
   "cell_type": "code",
   "execution_count": 9,
   "id": "67baa243",
   "metadata": {},
   "outputs": [
    {
     "name": "stdout",
     "output_type": "stream",
     "text": [
      "\n",
      "Training a simple linear regression model...\n"
     ]
    },
    {
     "data": {
      "text/plain": [
       "0.8518069326409302"
      ]
     },
     "execution_count": 9,
     "metadata": {},
     "output_type": "execute_result"
    }
   ],
   "source": [
    "#Fatures and Data\n",
    "print(\"\\nTraining a simple linear regression model...\")\n",
    "\n",
    "# Define features (X) and target (y)\n",
    "X_ref = reference_data.drop('mpg', axis=1)\n",
    "y_ref = reference_data['mpg']\n",
    "\n",
    "#Data Cleaning\n",
    "X_ref.dropna(inplace=True)\n",
    "y_ref = y_ref.loc[X_ref.index]\n",
    " \n",
    "#Model Building\n",
    "model = LinearRegression()\n",
    "model.fit(X_ref, y_ref)\n",
    "model.score(X_ref, y_ref)"
   ]
  },
  {
   "cell_type": "code",
   "execution_count": 10,
   "id": "0b340762",
   "metadata": {},
   "outputs": [
    {
     "name": "stdout",
     "output_type": "stream",
     "text": [
      "Model saved to auto_mpg_linear_regr_model.joblib\n"
     ]
    }
   ],
   "source": [
    "# Save the model\n",
    "model_filename = 'auto_mpg_linear_regr_model.joblib'\n",
    "joblib.dump(model, model_filename)\n",
    "print(f\"Model saved to {model_filename}\")"
   ]
  },
  {
   "cell_type": "code",
   "execution_count": 11,
   "id": "de849ed8",
   "metadata": {},
   "outputs": [],
   "source": [
    "\n",
    "X_curr = current_data.drop('mpg', axis=1)\n",
    "y_curr = current_data['mpg']\n",
    "X_curr.dropna(inplace=True)\n",
    "\n",
    "#Making predictions on reference and current data\n",
    "reference_data['prediction'] = model.predict(X_ref)\n",
    "current_data['prediction'] = model.predict(X_curr)"
   ]
  },
  {
   "cell_type": "code",
   "execution_count": 12,
   "id": "22326ad0",
   "metadata": {},
   "outputs": [
    {
     "data": {
      "text/plain": [
       "0.4396019987386798"
      ]
     },
     "execution_count": 12,
     "metadata": {},
     "output_type": "execute_result"
    }
   ],
   "source": [
    "model.score(X_curr, y_curr)"
   ]
  },
  {
   "cell_type": "code",
   "execution_count": 13,
   "id": "0b2fbd1b",
   "metadata": {},
   "outputs": [
    {
     "name": "stdout",
     "output_type": "stream",
     "text": [
      "\n",
      "Generating Evidently Model Performance report...\n"
     ]
    }
   ],
   "source": [
    "# Use Evidently to compare the distributions of the model predictions.\n",
    "from evidently.metric_preset import TargetDriftPreset\n",
    " \n",
    "print(\"\\nGenerating Evidently Model Performance report...\")\n",
    "model_report = Report(metrics=[\n",
    "    TargetDriftPreset()\n",
    "])\n",
    "model_report.run(current_data=current_data, reference_data=reference_data, column_mapping=None)"
   ]
  },
  {
   "cell_type": "code",
   "execution_count": 14,
   "id": "415a0cec",
   "metadata": {},
   "outputs": [],
   "source": [
    "# Save the report as an HTML file\n",
    "model_report_filename = f'model_performance_report_{datetime.datetime.now().strftime(\"%Y%m%d_%H%M%S\")}.html'\n",
    "model_report.save_html(model_report_filename)"
   ]
  },
  {
   "cell_type": "code",
   "execution_count": 15,
   "id": "08e634af",
   "metadata": {},
   "outputs": [],
   "source": [
    "def check_for_drift(report_json, threshold=0.2):\n",
    "    \"\"\"\n",
    "    Checks the Evidently JSON report for data drift based on a simple threshold.\n",
    "    Returns True if drift is detected, False otherwise.\n",
    "    \"\"\"\n",
    "    data_drift_metrics = report_json.get('metrics', [])\n",
    "    for metric in data_drift_metrics:\n",
    "        if metric.get('metric') == 'ColumnDriftMetric':\n",
    "            dataset_drift_score = metric.get('result', {}).get('drift_score')\n",
    "            print(dataset_drift_score)\n",
    "            if dataset_drift_score and dataset_drift_score > threshold:\n",
    "                return True\n",
    "    return False"
   ]
  },
  {
   "cell_type": "code",
   "execution_count": 16,
   "id": "c5935590",
   "metadata": {},
   "outputs": [
    {
     "name": "stdout",
     "output_type": "stream",
     "text": [
      "0.0002563942415315764\n",
      "\n",
      "No significant data drift detected. System is running smoothly.\n"
     ]
    }
   ],
   "source": [
    "def local_alert(drift_detected):\n",
    "    \"\"\"\n",
    "    A simple local alerting function that prints a message to the console.\n",
    "    \"\"\"\n",
    "    if drift_detected:\n",
    "        print(\"\\n!!! ALERT: Data Drift Detected !!!\")\n",
    "        print(\"Please check the generated HTML reports for a detailed analysis of the drift.\")\n",
    "    else:\n",
    "        print(\"\\nNo significant data drift detected. System is running smoothly.\")\n",
    " \n",
    "# Run the drift check and trigger the local alert\n",
    "report_json_data = model_report.as_dict()\n",
    "drift_detected = check_for_drift(report_json_data)\n",
    "local_alert(drift_detected)"
   ]
  }
 ],
 "metadata": {
  "kernelspec": {
   "display_name": "Python 3 (ipykernel)",
   "language": "python",
   "name": "python3"
  },
  "language_info": {
   "codemirror_mode": {
    "name": "ipython",
    "version": 3
   },
   "file_extension": ".py",
   "mimetype": "text/x-python",
   "name": "python",
   "nbconvert_exporter": "python",
   "pygments_lexer": "ipython3",
   "version": "3.9.12"
  }
 },
 "nbformat": 4,
 "nbformat_minor": 5
}
